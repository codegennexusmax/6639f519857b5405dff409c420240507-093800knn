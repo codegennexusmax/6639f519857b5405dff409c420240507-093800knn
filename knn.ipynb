{
 "cells": [
  {
   "cell_type": "markdown",
   "id": "3cdb1656",
   "metadata": {},
   "source": [
    "***GENERATED CODE FOR knn PIPELINE.***"
   ]
  },
  {
   "cell_type": "markdown",
   "id": "41042a6b",
   "metadata": {},
   "source": [
    "***DON'T EDIT THIS CODE.***"
   ]
  },
  {
   "cell_type": "markdown",
   "id": "75c590f1",
   "metadata": {},
   "source": [
    "***CONNECTOR FUNCTIONS TO READ DATA.***"
   ]
  },
  {
   "cell_type": "code",
   "execution_count": null,
   "id": "561fd440",
   "metadata": {},
   "outputs": [],
   "source": [
    "import os\n",
    "import datetime\n",
    "import logging\n",
    "import warnings\n",
    "warnings.filterwarnings('ignore')\n",
    "logging.basicConfig(format='%(levelname)s:%(message)s', level=logging.INFO)\n",
    "\n",
    "\n",
    "class HDFSConnector:\n",
    "\n",
    "    def fetch(spark, config):\n",
    "        ################### INPUT HADOOP HOST PORT TO CONNECT WITH ###############################\n",
    "        hdfs_server = str(os.environ['HDFS_SERVER'])\n",
    "        hdfs_port = int(os.environ['HDFS_PORT'])\n",
    "        df = spark.read.options(header='true', inferschema='true').csv(\n",
    "            f\"hdfs://{hdfs_server}:{hdfs_port}{eval(config)['url']}\", header='true')\n",
    "        display(df.limit(2).toPandas())\n",
    "        return df\n",
    "\n",
    "    def put(df, spark, config):\n",
    "        return df.write.format('csv').options(header='true' if eval(config)[\"is_header\"] == \"Use Header Line\" else 'false',\n",
    "                                              delimiter=eval(config)[\"delimiter\"]).save((\"%s %s\") % (datetime.datetime.now().strftime(\"%Y-%m-%d %H.%M.%S\")+\"_\", eval(config)['url']))\n"
   ]
  },
  {
   "cell_type": "markdown",
   "id": "6926bbde",
   "metadata": {},
   "source": [
    "***OPERATION FUNCTIONS***"
   ]
  },
  {
   "cell_type": "code",
   "execution_count": null,
   "id": "822a3753",
   "metadata": {},
   "outputs": [],
   "source": [
    "import pyspark\n",
    "from dask.dataframe import from_pandas\n",
    "import json\n",
    "\n",
    "\n",
    "def replaceValues(df, functionsData, applyOn):\n",
    "    for columnData in applyOn:\n",
    "        for functionData in functionsData:\n",
    "            if functionData['replaceType'] == 'value':\n",
    "                if functionData['replaceValueType'] == 'min':\n",
    "                    minValue = df[columnData['columnName']].min().compute()\n",
    "                    df[columnData['columnName']] = df[columnData['columnName']].replace(\n",
    "                        toReplace, minValue)\n",
    "                elif functionData['replaceValueType'] == 'max':\n",
    "                    maxValue = df[columnData['columnName']].max().compute()\n",
    "                    df[columnData['columnName']] = df[columnData['columnName']].replace(\n",
    "                        toReplace, maxValue)\n",
    "                else:\n",
    "                    df[columnData['columnName']] = df[columnData['columnName']].replace(\n",
    "                        toReplace, functionData['ReplaceWith'])\n",
    "            elif functionData['replaceType'] == 'none':\n",
    "                if functionData['replaceValueType'] == 'min':\n",
    "                    minValue = df[columnData['columnName']].min().compute()\n",
    "                    df[columnData['columnName']\n",
    "                       ] = df[columnData['columnName']].replace(\"\", minValue)\n",
    "                    df[columnData['columnName']\n",
    "                       ] = df[columnData['columnName']].fillna(minValue)\n",
    "                elif functionData['replaceValueType'] == 'max':\n",
    "                    maxValue = df[columnData['columnName']].max().compute()\n",
    "                    df[columnData['columnName']\n",
    "                       ] = df[columnData['columnName']].replace(\"\", maxValue)\n",
    "                    df[columnData['columnName']\n",
    "                       ] = df[columnData['columnName']].fillna(maxValue)\n",
    "                else:\n",
    "                    df[columnData['columnName']] = df[columnData['columnName']].replace(\n",
    "                        \"\", functionData['ReplaceWith'])\n",
    "                    df[columnData['columnName']] = df[columnData['columnName']].fillna(\n",
    "                        functionData['ReplaceWith'])\n",
    "    return df\n",
    "\n",
    "\n",
    "def runDataCleansing(sparkDf, spark, config):\n",
    "    configObj = json.loads(config)\n",
    "    sparkDf.persist(pyspark.StorageLevel.MEMORY_AND_DISK)\n",
    "    df = from_pandas((sparkDf.toPandas()), npartitions=5)\n",
    "    functionList = configObj['functionsApplied']\n",
    "    Data_Cleansing_Methods = {\"replaceBy\": replaceValues,\n",
    "                              \"formula\": calculateFormula,\n",
    "                              \"aggregate\": aggregation,\n",
    "                              \"converttostringtype\": changeToString,\n",
    "                              \"editname\": renameColumns}\n",
    "    for function in functionList:\n",
    "        function['functionName']\n",
    "        df = Data_Cleansing_Methods[function['functionName']](df, function['functionsData'],\n",
    "                                                              function['applyOn'])\n",
    "    sparkDf = spark.createDataFrame(df.compute())\n",
    "\n",
    "    display(sparkDf.limit(2).toPandas())\n",
    "    return sparkDf\n"
   ]
  },
  {
   "cell_type": "markdown",
   "id": "b1b03a6b",
   "metadata": {},
   "source": [
    "***CONNECTOR FUNCTIONS TO WRITE DATA.***"
   ]
  },
  {
   "cell_type": "code",
   "execution_count": null,
   "id": "9bca5e0e",
   "metadata": {},
   "outputs": [],
   "source": [
    "import datetime\n",
    "import requests\n",
    "import datetime\n",
    "import logging\n",
    "import warnings\n",
    "warnings.filterwarnings('ignore')\n",
    "logging.basicConfig(format='%(levelname)s:%(message)s', level=logging.INFO)\n",
    "\n",
    "\n",
    "class NumtraConnector:\n",
    "\n",
    "    def put(inStages, inStagesData, stageId, spark, config):\n",
    "        path = eval(config)['server_url']\n",
    "        baseType = eval(config)['baseType']\n",
    "        results_url = eval(config)['results_url']\n",
    "        server = eval(config)['server']\n",
    "        originalfile = eval(config)['orignalKey']\n",
    "        eval(config)['pathOnly']\n",
    "        filename = eval(config)['filename']\n",
    "        eval(config)['ser']\n",
    "        eval(config)['user']\n",
    "        eval(config)['password']\n",
    "        eval(config)['authSource']\n",
    "        eval(config)['user_id']\n",
    "        eval(config)['parent_id']\n",
    "        eval(config)['project_id']\n",
    "        time = str(int(datetime.datetime.now().timestamp()))\n",
    "\n",
    "        inStagesData[inStages[0]]\n",
    "\n",
    "        print(path)\n",
    "        print(baseType)\n",
    "        print(results_url)\n",
    "        print(server)\n",
    "        print(originalfile)\n",
    "        print(filename)\n",
    "\n",
    "        args = {\n",
    "            'url': path,\n",
    "            'baseType': baseType,\n",
    "            'originalfile': originalfile,\n",
    "            'filename': time + filename\n",
    "        }\n",
    "\n",
    "        response = requests.post(results_url, args)\n",
    "        return response\n"
   ]
  },
  {
   "cell_type": "markdown",
   "id": "869b9117",
   "metadata": {},
   "source": [
    "***READING DATAFRAME***"
   ]
  },
  {
   "cell_type": "code",
   "execution_count": null,
   "id": "333c20db",
   "metadata": {},
   "outputs": [],
   "source": [
    "############## CREATE SPARK SESSION ############################ ENTER YOUR SPARK MASTER IP AND PORT TO CONNECT TO SERVER ################\n",
    "from pyspark.sql import SparkSession\n",
    "spark = SparkSession.builder.master('local[1]').getOrCreate()\n",
    "#%run knnHooks.ipynb\n",
    "try:\n",
    "\t#sourcePreExecutionHook()\n",
    "\n",
    "\ttelcocutomermiing = HDFSConnector.fetch(spark, \"{'url': '/FileStore/platform/testdata/1714989385169_Telco_Customer_missing.csv', 'filename': 'Telco_Customer_missing.csv', 'delimiter': ',', 'file_type': 'Delimeted', 'FilePath': '/Khalid/dataFolder/dataprep/Telco_Customer_missing.csv', 'viewFileName': 'Telco_Customer_missing.csv', 'is_header': 'Use Header Line', 'baseType': 'hdfs', 'server_url': '/nexusMax/NexusMaxPlatform/uploads/platform/', 'results_url': 'http://dnm.bfirst.ai:44040/api/read/hdfs'}\")\n",
    "\n",
    "except Exception as ex: \n",
    "\tlogging.error(ex)\n",
    "#spark.stop()\n"
   ]
  },
  {
   "cell_type": "markdown",
   "id": "48614a6f",
   "metadata": {},
   "source": [
    "***PERFORMING OPERATIONS***"
   ]
  },
  {
   "cell_type": "code",
   "execution_count": null,
   "id": "1a7748ea",
   "metadata": {},
   "outputs": [],
   "source": [
    "#%run knnHooks.ipynb\n",
    "try:\n",
    "\t#operationPreExecutionHook()\n",
    "\n",
    "datapreparation = runDataCleansing(telcocutomermiing,spark,json.dumps( {\"url\": \"/FileStore/platform/testdata/1714989385169_Telco_Customer_missing.csv\", \"source_attributes\": {}, \"DataPrepFile\": \"/FileStore/platform/testdata/1714989385169_Telco_Customer_missing.csv\", \"data_source\": \"platfiles\", \"startListenerOnly\": 1, \"dateColumnNames\": [], \"FilePath\": \"/FileStore/platform/extra/6639f529857b5405dff409da1715074571/0part.csv\", \"requestRatio\": 14.0, \"totalRows\": 7043, \"BasicStats\": {\"missingValues\": 0.0, \"numberOfColumns\": 21, \"numberOfRows\": 7043, \"duplicateRowCount\": 0, \"stats\": [{\"column\": \"customerID\", \"alias\": \"customerID\", \"generated\": 0, \"type\": \"String\", \"max\": \"9995-HOTOH\", \"min\": \"0002-ORFBO\", \"mean\": \"\", \"missing\": 0.0, \"stddev\": \"\", \"outliers\": [], \"validation\": []}, {\"column\": \"gender\", \"alias\": \"gender\", \"generated\": 0, \"type\": \"String\", \"max\": \"Male\", \"min\": \"Female\", \"mean\": \"\", \"missing\": 0.0, \"stddev\": \"\", \"outliers\": [], \"validation\": []}, {\"column\": \"SeniorCitizen\", \"alias\": \"SeniorCitizen\", \"generated\": 0, \"type\": \"numeric\", \"max\": 1, \"min\": 0, \"mean\": 0.1621468124378816, \"missing\": 0.0, \"stddev\": 0.37, \"outliers\": [1, 1, 1, 1, 1, 1, 1, 1, 1, 1, 1, 1, 1, 1, 1, 1, 1, 1, 1, 1, 1, 1, 1, 1, 1, 1, 1, 1, 1, 1, 1, 1, 1, 1, 1, 1, 1, 1, 1, 1, 1, 1, 1, 1, 1, 1, 1, 1, 1, 1, 1, 1, 1, 1, 1, 1, 1, 1, 1, 1, 1, 1, 1, 1, 1, 1, 1, 1, 1, 1, 1, 1, 1, 1, 1, 1, 1, 1, 1, 1, 1, 1, 1, 1, 1, 1, 1, 1, 1, 1, 1, 1, 1, 1, 1, 1, 1, 1, 1, 1, 1, 1, 1, 1, 1, 1, 1, 1, 1, 1, 1, 1, 1, 1, 1, 1, 1, 1, 1, 1, 1, 1, 1, 1, 1, 1, 1, 1, 1, 1, 1, 1, 1, 1, 1, 1, 1, 1, 1, 1, 1, 1, 1, 1, 1, 1, 1, 1, 1, 1, 1, 1, 1, 1, 1, 1, 1, 1, 1, 1, 1, 1, 1, 1, 1, 1, 1, 1, 1, 1, 1, 1, 1, 1, 1, 1, 1, 1, 1, 1, 1, 1, 1, 1, 1, 1, 1, 1, 1, 1, 1, 1, 1, 1, 1, 1, 1, 1, 1, 1, 1, 1, 1, 1, 1, 1, 1, 1, 1, 1, 1, 1, 1, 1, 1, 1, 1, 1, 1, 1, 1, 1, 1, 1, 1, 1, 1, 1, 1, 1, 1, 1, 1, 1, 1, 1, 1, 1, 1, 1, 1, 1, 1, 1, 1, 1, 1, 1, 1, 1, 1, 1, 1, 1, 1, 1, 1, 1, 1, 1, 1, 1, 1, 1, 1, 1, 1, 1, 1, 1, 1, 1, 1, 1, 1, 1, 1, 1, 1, 1, 1, 1, 1, 1, 1, 1, 1, 1, 1, 1, 1, 1, 1, 1, 1, 1, 1, 1, 1, 1, 1, 1, 1, 1, 1, 1, 1, 1, 1, 1, 1, 1, 1, 1, 1, 1, 1, 1, 1, 1, 1, 1, 1, 1, 1, 1, 1, 1, 1, 1, 1, 1, 1, 1, 1, 1, 1, 1, 1, 1, 1, 1, 1, 1, 1, 1, 1, 1, 1, 1, 1, 1, 1, 1, 1, 1, 1, 1, 1, 1, 1, 1, 1, 1, 1, 1, 1, 1, 1, 1, 1, 1, 1, 1, 1, 1, 1, 1, 1, 1, 1, 1, 1, 1, 1, 1, 1, 1, 1, 1, 1, 1, 1, 1, 1, 1, 1, 1, 1, 1, 1, 1, 1, 1, 1, 1, 1, 1, 1, 1, 1, 1, 1, 1, 1, 1, 1, 1, 1, 1, 1, 1, 1, 1, 1, 1, 1, 1, 1, 1, 1, 1, 1, 1, 1, 1, 1, 1, 1, 1, 1, 1, 1, 1, 1, 1, 1, 1, 1, 1, 1, 1, 1, 1, 1, 1, 1, 1, 1, 1, 1, 1, 1, 1, 1, 1, 1, 1, 1, 1, 1, 1, 1, 1, 1, 1, 1, 1, 1, 1, 1, 1, 1, 1, 1, 1, 1, 1, 1, 1, 1, 1, 1, 1, 1, 1, 1, 1, 1, 1, 1, 1, 1, 1, 1, 1, 1, 1, 1, 1, 1, 1, 1, 1, 1, 1, 1, 1, 1, 1, 1, 1, 1, 1, 1, 1, 1, 1, 1, 1, 1, 1, 1, 1, 1, 1, 1, 1, 1, 1, 1, 1, 1, 1, 1, 1, 1, 1, 1, 1, 1, 1, 1, 1, 1, 1, 1, 1, 1, 1, 1, 1, 1, 1, 1, 1, 1, 1, 1, 1, 1, 1, 1, 1, 1, 1, 1, 1, 1, 1, 1, 1, 1, 1, 1, 1, 1, 1, 1, 1, 1, 1, 1, 1, 1, 1, 1, 1, 1, 1, 1, 1, 1, 1, 1, 1, 1, 1, 1, 1, 1, 1, 1, 1, 1, 1, 1, 1, 1, 1, 1, 1, 1, 1, 1, 1, 1, 1, 1, 1, 1, 1, 1, 1, 1, 1, 1, 1, 1, 1, 1, 1, 1, 1, 1, 1, 1, 1, 1, 1, 1, 1, 1, 1, 1, 1, 1, 1, 1, 1, 1, 1, 1, 1, 1, 1, 1, 1, 1, 1, 1, 1, 1, 1, 1, 1, 1, 1, 1, 1, 1, 1, 1, 1, 1, 1, 1, 1, 1, 1, 1, 1, 1, 1, 1, 1, 1, 1, 1, 1, 1, 1, 1, 1, 1, 1, 1, 1, 1, 1, 1, 1, 1, 1, 1, 1, 1, 1, 1, 1, 1, 1, 1, 1, 1, 1, 1, 1, 1, 1, 1, 1, 1, 1, 1, 1, 1, 1, 1, 1, 1, 1, 1, 1, 1, 1, 1, 1, 1, 1, 1, 1, 1, 1, 1, 1, 1, 1, 1, 1, 1, 1, 1, 1, 1, 1, 1, 1, 1, 1, 1, 1, 1, 1, 1, 1, 1, 1, 1, 1, 1, 1, 1, 1, 1, 1, 1, 1, 1, 1, 1, 1, 1, 1, 1, 1, 1, 1, 1, 1, 1, 1, 1, 1, 1, 1, 1, 1, 1, 1, 1, 1, 1, 1, 1, 1, 1, 1, 1, 1, 1, 1, 1, 1, 1, 1, 1, 1, 1, 1, 1, 1, 1, 1, 1, 1, 1, 1, 1, 1, 1, 1, 1, 1, 1, 1, 1, 1, 1, 1, 1, 1, 1, 1, 1, 1, 1, 1, 1, 1, 1, 1, 1, 1, 1, 1, 1, 1, 1, 1, 1, 1, 1, 1, 1, 1, 1, 1, 1, 1, 1, 1, 1, 1, 1, 1, 1, 1, 1, 1, 1, 1, 1, 1, 1, 1, 1, 1, 1, 1, 1, 1, 1, 1, 1, 1, 1, 1, 1, 1, 1, 1, 1, 1, 1, 1, 1, 1, 1, 1, 1, 1, 1, 1, 1, 1, 1, 1, 1, 1, 1, 1, 1, 1, 1, 1, 1, 1, 1, 1, 1, 1, 1, 1, 1, 1, 1, 1, 1, 1, 1, 1, 1, 1, 1, 1, 1, 1, 1, 1, 1, 1, 1, 1, 1, 1, 1, 1, 1, 1, 1, 1, 1, 1, 1, 1, 1, 1, 1, 1, 1, 1, 1, 1, 1, 1, 1, 1, 1, 1, 1, 1, 1, 1, 1, 1, 1, 1, 1, 1, 1, 1, 1, 1, 1, 1, 1, 1, 1, 1, 1, 1, 1, 1, 1, 1, 1, 1, 1, 1, 1, 1, 1, 1, 1, 1, 1, 1, 1, 1, 1, 1, 1, 1, 1, 1, 1, 1, 1, 1, 1, 1, 1, 1, 1, 1, 1, 1, 1, 1, 1, 1, 1, 1, 1, 1, 1, 1, 1, 1, 1, 1, 1, 1, 1, 1, 1, 1, 1, 1, 1, 1, 1, 1, 1, 1, 1, 1, 1, 1, 1, 1, 1, 1, 1, 1, 1, 1, 1, 1, 1, 1, 1, 1, 1, 1, 1, 1, 1, 1, 1, 1, 1, 1, 1, 1, 1, 1, 1, 1, 1, 1, 1, 1, 1, 1, 1, 1, 1, 1, 1, 1, 1, 1, 1, 1, 1, 1, 1, 1, 1, 1, 1, 1, 1, 1, 1, 1, 1, 1, 1, 1], \"validation\": []}, {\"column\": \"Partner\", \"alias\": \"Partner\", \"generated\": 0, \"type\": \"String\", \"max\": \"Yes\", \"min\": \"No\", \"mean\": \"\", \"missing\": 0.0, \"stddev\": \"\", \"outliers\": [], \"validation\": []}, {\"column\": \"Dependents\", \"alias\": \"Dependents\", \"generated\": 0, \"type\": \"String\", \"max\": \"\", \"min\": \"\", \"mean\": \"\", \"missing\": 0.1, \"stddev\": \"\", \"outliers\": [], \"validation\": []}, {\"column\": \"tenure\", \"alias\": \"tenure\", \"generated\": 0, \"type\": \"numeric\", \"max\": 72, \"min\": 0, \"mean\": 32.37114865824223, \"missing\": 0.0, \"stddev\": 24.56, \"outliers\": [], \"validation\": []}, {\"column\": \"PhoneService\", \"alias\": \"PhoneService\", \"generated\": 0, \"type\": \"String\", \"max\": \"Yes\", \"min\": \"No\", \"mean\": \"\", \"missing\": 0.0, \"stddev\": \"\", \"outliers\": [], \"validation\": []}, {\"column\": \"MultipleLines\", \"alias\": \"MultipleLines\", \"generated\": 0, \"type\": \"String\", \"max\": \"Yes\", \"min\": \"No\", \"mean\": \"\", \"missing\": 0.0, \"stddev\": \"\", \"outliers\": [], \"validation\": []}, {\"column\": \"InternetService\", \"alias\": \"InternetService\", \"generated\": 0, \"type\": \"String\", \"max\": \"No\", \"min\": \"DSL\", \"mean\": \"\", \"missing\": 0.0, \"stddev\": \"\", \"outliers\": [], \"validation\": []}, {\"column\": \"OnlineSecurity\", \"alias\": \"OnlineSecurity\", \"generated\": 0, \"type\": \"String\", \"max\": \"\", \"min\": \"\", \"mean\": \"\", \"missing\": 0.1, \"stddev\": \"\", \"outliers\": [], \"validation\": []}, {\"column\": \"OnlineBackup\", \"alias\": \"OnlineBackup\", \"generated\": 0, \"type\": \"String\", \"max\": \"Yes\", \"min\": \"No\", \"mean\": \"\", \"missing\": 0.0, \"stddev\": \"\", \"outliers\": [], \"validation\": []}, {\"column\": \"DeviceProtection\", \"alias\": \"DeviceProtection\", \"generated\": 0, \"type\": \"String\", \"max\": \"Yes\", \"min\": \"No\", \"mean\": \"\", \"missing\": 0.0, \"stddev\": \"\", \"outliers\": [], \"validation\": []}, {\"column\": \"TechSupport\", \"alias\": \"TechSupport\", \"generated\": 0, \"type\": \"String\", \"max\": \"Yes\", \"min\": \"No\", \"mean\": \"\", \"missing\": 0.0, \"stddev\": \"\", \"outliers\": [], \"validation\": []}, {\"column\": \"StreamingTV\", \"alias\": \"StreamingTV\", \"generated\": 0, \"type\": \"String\", \"max\": \"Yes\", \"min\": \"No\", \"mean\": \"\", \"missing\": 0.0, \"stddev\": \"\", \"outliers\": [], \"validation\": []}, {\"column\": \"StreamingMovies\", \"alias\": \"StreamingMovies\", \"generated\": 0, \"type\": \"String\", \"max\": \"Yes\", \"min\": \"No\", \"mean\": \"\", \"missing\": 0.0, \"stddev\": \"\", \"outliers\": [], \"validation\": []}, {\"column\": \"Contract\", \"alias\": \"Contract\", \"generated\": 0, \"type\": \"String\", \"max\": \"test\", \"min\": \"Month-to-month\", \"mean\": \"\", \"missing\": 0.0, \"stddev\": \"\", \"outliers\": [], \"validation\": []}, {\"column\": \"PaperlessBilling\", \"alias\": \"PaperlessBilling\", \"generated\": 0, \"type\": \"String\", \"max\": \"Yes\", \"min\": \"No\", \"mean\": \"\", \"missing\": 0.0, \"stddev\": \"\", \"outliers\": [], \"validation\": []}, {\"column\": \"PaymentMethod\", \"alias\": \"PaymentMethod\", \"generated\": 0, \"type\": \"String\", \"max\": \"\", \"min\": \"\", \"mean\": \"\", \"missing\": 1.0, \"stddev\": \"\", \"outliers\": [], \"validation\": []}, {\"column\": \"MonthlyCharges\", \"alias\": \"MonthlyCharges\", \"generated\": 0, \"type\": \"real\", \"max\": 118.75, \"min\": 18.25, \"mean\": 64.76153518123668, \"missing\": 0.1, \"stddev\": 30.1, \"outliers\": [], \"validation\": []}, {\"column\": \"TotalCharges\", \"alias\": \"TotalCharges\", \"generated\": 0, \"type\": \"real\", \"max\": 8684.8, \"min\": 18.8, \"mean\": 2283.3004408418656, \"missing\": 0.2, \"stddev\": 2266.77, \"outliers\": [8129.3, 8041.65, 8126.65, 8468.2, 8404.9, 8399.15, 8248.5, 8220.4, 8071.05, 8306.05, 8196.4, 8065.65, 8476.5, 8310.55, 8046.85, 8333.95, 8093.15, 8317.95, 8127.6, 8375.05, 8100.55, 8078.1, 8086.4, 8477.7, 8477.6, 8564.75, 8124.2, 8529.5, 8058.85, 8164.1, 8425.3, 8496.7, 8405.0, 8277.05, 8165.1, 8182.85, 8182.75, 8308.9, 8240.85, 8061.5, 8297.5, 8109.8, 8425.15, 8058.55, 8436.25, 8349.45, 8456.75, 8443.7, 8312.4, 8424.9, 8100.25, 8672.45, 8684.8, 8332.15, 8312.75, 8289.2, 8166.8, 8075.35, 8594.4, 8244.3, 8543.25, 8331.95, 8250.0, 8192.6, 8547.15, 8175.9, 8309.55, 8337.45, 8152.3, 8349.7, 8670.1], \"validation\": []}, {\"column\": \"Churn\", \"alias\": \"Churn\", \"generated\": 0, \"type\": \"String\", \"max\": \"Yes\", \"min\": \"No\", \"mean\": \"\", \"missing\": 0.0, \"stddev\": \"\", \"outliers\": [], \"validation\": []}]}, \"predictionPowerScore\": [{\"Churn\": 1.0, \"Contract\": 0.0, \"Dependents\": 0.0, \"DeviceProtection\": 0.0, \"InternetService\": 0.0, \"MonthlyCharges\": 0.0952164849, \"MultipleLines\": 0.0, \"OnlineBackup\": 0.0, \"OnlineSecurity\": 0.0, \"PaperlessBilling\": 0.0, \"Partner\": 0.0, \"PaymentMethod\": 1.213e-07, \"PhoneService\": 0.0, \"SeniorCitizen\": 0.0, \"StreamingMovies\": 0.0, \"StreamingTV\": 0.0, \"TechSupport\": 0.0, \"TotalCharges\": 0.078636906, \"customerID\": 0.0, \"gender\": 0.0, \"tenure\": 0.2316790568}, {\"Churn\": 0.0, \"Contract\": 1.0, \"Dependents\": 0.0627291589, \"DeviceProtection\": 0.1323088153, \"InternetService\": 0.1323088153, \"MonthlyCharges\": 0.1490231853, \"MultipleLines\": 0.0, \"OnlineBackup\": 0.1323088153, \"OnlineSecurity\": 0.1971069986, \"PaperlessBilling\": 0.0, \"Partner\": 0.0, \"PaymentMethod\": 0.0769594248, \"PhoneService\": 0.0, \"SeniorCitizen\": 0.0, \"StreamingMovies\": 0.1323088153, \"StreamingTV\": 0.1323088153, \"TechSupport\": 0.2060175905, \"TotalCharges\": 0.1913720076, \"customerID\": 0.0, \"gender\": 0.0, \"tenure\": 0.4030969375}, {\"Churn\": 0.0, \"Contract\": 0.0, \"Dependents\": 1.0, \"DeviceProtection\": 0.0, \"InternetService\": 0.0, \"MonthlyCharges\": 0.0521506158, \"MultipleLines\": 0.0, \"OnlineBackup\": 0.0, \"OnlineSecurity\": 0.0, \"PaperlessBilling\": 0.0, \"Partner\": 0.361832129, \"PaymentMethod\": 0.0, \"PhoneService\": 0.0, \"SeniorCitizen\": 0.0, \"StreamingMovies\": 0.0, \"StreamingTV\": 0.0, \"TechSupport\": 0.0, \"TotalCharges\": 0.0427262921, \"customerID\": 0.0, \"gender\": 0.0, \"tenure\": 0.0074986977}, {\"Churn\": 0.0508945535, \"Contract\": 0.1994603425, \"Dependents\": 0.0290305156, \"DeviceProtection\": 1.0, \"InternetService\": 0.2603468184, \"MonthlyCharges\": 0.5017313029, \"MultipleLines\": 0.0643494851, \"OnlineBackup\": 0.5038689797, \"OnlineSecurity\": 0.5078495527, \"PaperlessBilling\": 0.0025865337, \"Partner\": 0.0779447521, \"PaymentMethod\": 0.2302522552, \"PhoneService\": 0.0, \"SeniorCitizen\": 0.0, \"StreamingMovies\": 0.5735403291, \"StreamingTV\": 0.5691087246, \"TechSupport\": 0.5442739101, \"TotalCharges\": 0.177483329, \"customerID\": 0.0, \"gender\": 0.0, \"tenure\": 0.1773312613}, {\"Churn\": 0.0756726175, \"Contract\": 0.1124775194, \"Dependents\": 0.0498745702, \"DeviceProtection\": 0.2863912193, \"InternetService\": 1.0, \"MonthlyCharges\": 0.7806685879, \"MultipleLines\": 0.1768821428, \"OnlineBackup\": 0.2863912193, \"OnlineSecurity\": 0.5342962418, \"PaperlessBilling\": 0.0823930252, \"Partner\": 0.0, \"PaymentMethod\": 0.1952859963, \"PhoneService\": 0.142028373, \"SeniorCitizen\": 0.0, \"StreamingMovies\": 0.4899613408, \"StreamingTV\": 0.4996716973, \"TechSupport\": 0.5296214257, \"TotalCharges\": 0.1950438593, \"customerID\": 0.0, \"gender\": 0.0, \"tenure\": 0.0}, {\"Churn\": 0.0227755081, \"Contract\": 0.0, \"Dependents\": 0.0, \"DeviceProtection\": 0.456578749, \"InternetService\": 0.6225493337, \"MonthlyCharges\": 1.0, \"MultipleLines\": 0.1705749399, \"OnlineBackup\": 0.4418553662, \"OnlineSecurity\": 0.429862617, \"PaperlessBilling\": 0.068337967, \"Partner\": 0.0, \"PaymentMethod\": 0.1004448223, \"PhoneService\": 0.05324998, \"SeniorCitizen\": 0.0191546533, \"StreamingMovies\": 0.5091271853, \"StreamingTV\": 0.512900666, \"TechSupport\": 0.4284519044, \"TotalCharges\": 0.1299267223, \"customerID\": 0.0, \"gender\": 0.0, \"tenure\": 0.0153471241}, {\"Churn\": 0.0, \"Contract\": 0.0776948471, \"Dependents\": 0.0, \"DeviceProtection\": 0.194049849, \"InternetService\": 0.2501146933, \"MonthlyCharges\": 0.4273684912, \"MultipleLines\": 1.0, \"OnlineBackup\": 0.1929921954, \"OnlineSecurity\": 0.1324372961, \"PaperlessBilling\": 0.1329666272, \"Partner\": 0.1363512842, \"PaymentMethod\": 0.1086027998, \"PhoneService\": 0.0277673318, \"SeniorCitizen\": 0.043928772, \"StreamingMovies\": 0.2347502255, \"StreamingTV\": 0.2316058164, \"TechSupport\": 0.130171174, \"TotalCharges\": 0.2101512738, \"customerID\": 0.0, \"gender\": 0.0, \"tenure\": 0.2363117907}, {\"Churn\": 0.0, \"Contract\": 0.1477638407, \"Dependents\": 0.0219395588, \"DeviceProtection\": 0.5048915826, \"InternetService\": 0.2727294137, \"MonthlyCharges\": 0.4541724877, \"MultipleLines\": 0.0691993944, \"OnlineBackup\": 1.0, \"OnlineSecurity\": 0.5038457526, \"PaperlessBilling\": 0.0052504462, \"Partner\": 0.0595143067, \"PaymentMethod\": 0.2191644053, \"PhoneService\": 0.0, \"SeniorCitizen\": 0.0, \"StreamingMovies\": 0.4171948562, \"StreamingTV\": 0.4754281175, \"TechSupport\": 0.5083287957, \"TotalCharges\": 0.2182563092, \"customerID\": 0.0, \"gender\": 0.0, \"tenure\": 0.1565974051}, {\"Churn\": 0.0, \"Contract\": 0.1710440497, \"Dependents\": 0.0, \"DeviceProtection\": 0.3584852596, \"InternetService\": 0.3935475984, \"MonthlyCharges\": 0.4648545264, \"MultipleLines\": 0.0, \"OnlineBackup\": 0.3584852596, \"OnlineSecurity\": 1.0, \"PaperlessBilling\": 0.0918273316, \"Partner\": 0.0, \"PaymentMethod\": 0.1780548998, \"PhoneService\": 0.0, \"SeniorCitizen\": 0.0, \"StreamingMovies\": 0.3584852596, \"StreamingTV\": 0.3584852596, \"TechSupport\": 0.5838808731, \"TotalCharges\": 0.1521396164, \"customerID\": 0.0, \"gender\": 0.0, \"tenure\": 0.1301279185}, {\"Churn\": 0.0, \"Contract\": 0.1317628727, \"Dependents\": 0.0641900249, \"DeviceProtection\": 0.2965414953, \"InternetService\": 0.2965414953, \"MonthlyCharges\": 0.1591861925, \"MultipleLines\": 0.0, \"OnlineBackup\": 0.2965414953, \"OnlineSecurity\": 0.2885197325, \"PaperlessBilling\": 1.0, \"Partner\": 0.0, \"PaymentMethod\": 0.1714605533, \"PhoneService\": 0.0, \"SeniorCitizen\": 0.0, \"StreamingMovies\": 0.2965414953, \"StreamingTV\": 0.2965414953, \"TechSupport\": 0.2965414953, \"TotalCharges\": 0.0948356859, \"customerID\": 0.0, \"gender\": 0.0, \"tenure\": 0.0}, {\"Churn\": 0.0417174601, \"Contract\": 0.2563877421, \"Dependents\": 0.4240967668, \"DeviceProtection\": 0.1104955386, \"InternetService\": 0.0, \"MonthlyCharges\": 0.0, \"MultipleLines\": 0.1250671197, \"OnlineBackup\": 0.0792829769, \"OnlineSecurity\": 0.1407852728, \"PaperlessBilling\": 0.0, \"Partner\": 1.0, \"PaymentMethod\": 0.1800115686, \"PhoneService\": 0.0, \"SeniorCitizen\": 0.0, \"StreamingMovies\": 0.0980271056, \"StreamingTV\": 0.0965148404, \"TechSupport\": 0.0618985563, \"TotalCharges\": 0.126109543, \"customerID\": 0.0, \"gender\": 0.0, \"tenure\": 0.2753671602}, {\"Churn\": 0.0038007283, \"Contract\": 0.0704123457, \"Dependents\": 0.0, \"DeviceProtection\": 0.0614043246, \"InternetService\": 0.0627381964, \"MonthlyCharges\": 0.1059739864, \"MultipleLines\": 0.0, \"OnlineBackup\": 0.0614043246, \"OnlineSecurity\": 0.1574643384, \"PaperlessBilling\": 0.0314469518, \"Partner\": 0.0, \"PaymentMethod\": 1.0, \"PhoneService\": 0.0, \"SeniorCitizen\": 0.0, \"StreamingMovies\": 0.0614043246, \"StreamingTV\": 0.0614043246, \"TechSupport\": 0.1689056395, \"TotalCharges\": 0.0480964588, \"customerID\": 0.0, \"gender\": 0.0, \"tenure\": 0.0814817475}, {\"Churn\": 0.0, \"Contract\": 0.0, \"Dependents\": 2.494e-07, \"DeviceProtection\": 0.0, \"InternetService\": 0.0, \"MonthlyCharges\": 0.3531186543, \"MultipleLines\": 1.0, \"OnlineBackup\": 0.0, \"OnlineSecurity\": 2.494e-07, \"PaperlessBilling\": 0.0, \"Partner\": 0.0, \"PaymentMethod\": 0.0, \"PhoneService\": 1.0, \"SeniorCitizen\": 0.0, \"StreamingMovies\": 0.0, \"StreamingTV\": 0.0, \"TechSupport\": 0.0, \"TotalCharges\": 0.0, \"customerID\": 0.0, \"gender\": 0.0, \"tenure\": 0.0}, {\"Churn\": 0.0, \"Contract\": 0.0, \"Dependents\": 0.0, \"DeviceProtection\": 0.0, \"InternetService\": 0.0, \"MonthlyCharges\": 0.0, \"MultipleLines\": 0.0, \"OnlineBackup\": 0.0, \"OnlineSecurity\": 0.0, \"PaperlessBilling\": 0.0, \"Partner\": 0.0, \"PaymentMethod\": 0.0, \"PhoneService\": 0.0, \"SeniorCitizen\": 1.0, \"StreamingMovies\": 0.0, \"StreamingTV\": 0.0, \"TechSupport\": 0.0, \"TotalCharges\": 0.0, \"customerID\": 0.0, \"gender\": 0.0, \"tenure\": 0.0}, {\"Churn\": 0.0, \"Contract\": 0.1220081214, \"Dependents\": 0.0, \"DeviceProtection\": 0.5719356539, \"InternetService\": 0.4848958001, \"MonthlyCharges\": 0.5877244224, \"MultipleLines\": 0.0973177254, \"OnlineBackup\": 0.4681460108, \"OnlineSecurity\": 0.421432252, \"PaperlessBilling\": 0.0, \"Partner\": 0.0635067994, \"PaymentMethod\": 0.0, \"PhoneService\": 0.0, \"SeniorCitizen\": 0.0, \"StreamingMovies\": 1.0, \"StreamingTV\": 0.6688544494, \"TechSupport\": 0.4869711533, \"TotalCharges\": 0.2059264644, \"customerID\": 0.0, \"gender\": 0.0, \"tenure\": 0.1120807469}, {\"Churn\": 0.0, \"Contract\": 0.124905319, \"Dependents\": 0.0, \"DeviceProtection\": 0.5685460301, \"InternetService\": 0.4959616677, \"MonthlyCharges\": 0.5898330786, \"MultipleLines\": 0.1005058419, \"OnlineBackup\": 0.4736687351, \"OnlineSecurity\": 0.4086661674, \"PaperlessBilling\": 0.0, \"Partner\": 0.0644514403, \"PaymentMethod\": 0.0879436525, \"PhoneService\": 0.0, \"SeniorCitizen\": 0.0, \"StreamingMovies\": 0.6696561612, \"StreamingTV\": 1.0, \"TechSupport\": 0.4874527217, \"TotalCharges\": 0.2296543376, \"customerID\": 0.0, \"gender\": 0.0, \"tenure\": 0.1300004092}, {\"Churn\": 0.0, \"Contract\": 0.1880821218, \"Dependents\": 0.0, \"DeviceProtection\": 0.5477869782, \"InternetService\": 0.3916785201, \"MonthlyCharges\": 0.4768276927, \"MultipleLines\": 0.0, \"OnlineBackup\": 0.3540604098, \"OnlineSecurity\": 0.5900954158, \"PaperlessBilling\": 0.0843586083, \"Partner\": 0.0, \"PaymentMethod\": 0.1560290815, \"PhoneService\": 0.0, \"SeniorCitizen\": 0.0, \"StreamingMovies\": 0.3540604098, \"StreamingTV\": 0.3540604098, \"TechSupport\": 1.0, \"TotalCharges\": 0.1806223076, \"customerID\": 0.0, \"gender\": 0.0, \"tenure\": 0.1364004646}, {\"Churn\": 0.0, \"Contract\": 0.0721022764, \"Dependents\": 0.0, \"DeviceProtection\": 0.1731762429, \"InternetService\": 0.0651473002, \"MonthlyCharges\": 0.2170729053, \"MultipleLines\": 0.0940944064, \"OnlineBackup\": 0.1602606706, \"OnlineSecurity\": 0.1109236142, \"PaperlessBilling\": 0.0, \"Partner\": 0.0032774794, \"PaymentMethod\": 0.0272701054, \"PhoneService\": 0.0, \"SeniorCitizen\": 0.0, \"StreamingMovies\": 0.1491788656, \"StreamingTV\": 0.1531873297, \"TechSupport\": 0.1176828933, \"TotalCharges\": 1.0, \"customerID\": 0.0, \"gender\": 0.0, \"tenure\": 0.5144616861}, {\"Churn\": 0.0, \"Contract\": 0.0, \"Dependents\": 0.0, \"DeviceProtection\": 0.0, \"InternetService\": 0.0, \"MonthlyCharges\": 0.0, \"MultipleLines\": 0.0, \"OnlineBackup\": 0.0, \"OnlineSecurity\": 0.0, \"PaperlessBilling\": 0.0, \"Partner\": 0.0, \"PaymentMethod\": 0.0, \"PhoneService\": 0.0, \"SeniorCitizen\": 0.0, \"StreamingMovies\": 0.0, \"StreamingTV\": 0.0, \"TechSupport\": 0.0, \"TotalCharges\": 0.0, \"customerID\": 1.0, \"gender\": 0.0, \"tenure\": 0.0}, {\"Churn\": 0.0, \"Contract\": 0.0, \"Dependents\": 0.0, \"DeviceProtection\": 0.0, \"InternetService\": 0.0, \"MonthlyCharges\": 0.0014609065, \"MultipleLines\": 0.0, \"OnlineBackup\": 0.0, \"OnlineSecurity\": 0.0, \"PaperlessBilling\": 0.0, \"Partner\": 0.0, \"PaymentMethod\": 0.0, \"PhoneService\": 0.0, \"SeniorCitizen\": 0.0, \"StreamingMovies\": 0.0, \"StreamingTV\": 0.0027513077, \"TechSupport\": 0.0, \"TotalCharges\": 0.000541107, \"customerID\": 0.0, \"gender\": 1.0, \"tenure\": 0.0}, {\"Churn\": 0.0799659085, \"Contract\": 0.3202772059, \"Dependents\": 0.0116229895, \"DeviceProtection\": 0.0978905729, \"InternetService\": 0.0, \"MonthlyCharges\": 0.0003660713, \"MultipleLines\": 0.0791590375, \"OnlineBackup\": 0.0875949622, \"OnlineSecurity\": 0.0748828053, \"PaperlessBilling\": 0.0, \"Partner\": 0.0838970473, \"PaymentMethod\": 0.0985277847, \"PhoneService\": 0.0, \"SeniorCitizen\": 0.0, \"StreamingMovies\": 0.0586024461, \"StreamingTV\": 0.0561383592, \"TechSupport\": 0.0693137664, \"TotalCharges\": 0.5211348992, \"customerID\": 0.0, \"gender\": 0.0, \"tenure\": 1.0}], \"HasBasicStats\": 1, \"functionsApplied\": [{\"functionName\": \"replaceBy\", \"applyOn\": [{\"columnName\": \"Contract\", \"type\": \"String\", \"min\": \"-\", \"max\": \"-\", \"mean\": \"-\"}], \"functionsData\": [{\"replaceType\": \"value\", \"toReplace\": \"\", \"replaceValueType\": \"\", \"replaceValueCondition\": \"equalsto\", \"ReplaceWith\": \"\", \"asNewColumn\": 0, \"newColumnName\": \"\"}, {\"replaceType\": \"none\", \"replaceValueCondition\": \"none\", \"toReplace\": \"\", \"asNewColumn\": 0, \"newColumnName\": \"\", \"replaceValueType\": \"byValue\", \"ReplaceWith\": \"test\"}]}], \"functionChanges\": [{\"columnName\": \"Contract\", \"functionName\": \"Replace Outliers\", \"Type\": \"String\", \"Parameters\": [{\"replaceType\": \"value\", \"toReplace\": \"\", \"replaceValueType\": \"\", \"replaceValueCondition\": \"equalsto\", \"ReplaceWith\": \"\", \"asNewColumn\": 0, \"newColumnName\": \"\"}, {\"replaceType\": \"none\", \"replaceValueCondition\": \"none\", \"toReplace\": \"\", \"asNewColumn\": 0, \"newColumnName\": \"\", \"replaceValueType\": \"byValue\", \"ReplaceWith\": \"test\"}]}], \"fileheader\": [{\"field\": \"customerID\", \"alias\": \"customerID\", \"generated\": 0, \"position\": 1, \"type\": \"String\"}, {\"field\": \"gender\", \"alias\": \"gender\", \"generated\": 0, \"position\": 2, \"type\": \"String\"}, {\"field\": \"SeniorCitizen\", \"alias\": \"SeniorCitizen\", \"generated\": 0, \"position\": 3, \"type\": \"numeric\"}, {\"field\": \"Partner\", \"alias\": \"Partner\", \"generated\": 0, \"position\": 4, \"type\": \"String\"}, {\"field\": \"Dependents\", \"alias\": \"Dependents\", \"generated\": 0, \"position\": 5, \"type\": \"String\"}, {\"field\": \"tenure\", \"alias\": \"tenure\", \"generated\": 0, \"position\": 6, \"type\": \"numeric\"}, {\"field\": \"PhoneService\", \"alias\": \"PhoneService\", \"generated\": 0, \"position\": 7, \"type\": \"String\"}, {\"field\": \"MultipleLines\", \"alias\": \"MultipleLines\", \"generated\": 0, \"position\": 8, \"type\": \"String\"}, {\"field\": \"InternetService\", \"alias\": \"InternetService\", \"generated\": 0, \"position\": 9, \"type\": \"String\"}, {\"field\": \"OnlineSecurity\", \"alias\": \"OnlineSecurity\", \"generated\": 0, \"position\": 10, \"type\": \"String\"}, {\"field\": \"OnlineBackup\", \"alias\": \"OnlineBackup\", \"generated\": 0, \"position\": 11, \"type\": \"String\"}, {\"field\": \"DeviceProtection\", \"alias\": \"DeviceProtection\", \"generated\": 0, \"position\": 12, \"type\": \"String\"}, {\"field\": \"TechSupport\", \"alias\": \"TechSupport\", \"generated\": 0, \"position\": 13, \"type\": \"String\"}, {\"field\": \"StreamingTV\", \"alias\": \"StreamingTV\", \"generated\": 0, \"position\": 14, \"type\": \"String\"}, {\"field\": \"StreamingMovies\", \"alias\": \"StreamingMovies\", \"generated\": 0, \"position\": 15, \"type\": \"String\"}, {\"field\": \"Contract\", \"alias\": \"Contract\", \"generated\": 0, \"position\": 16, \"type\": \"String\"}, {\"field\": \"PaperlessBilling\", \"alias\": \"PaperlessBilling\", \"generated\": 0, \"position\": 17, \"type\": \"String\"}, {\"field\": \"PaymentMethod\", \"alias\": \"PaymentMethod\", \"generated\": 0, \"position\": 18, \"type\": \"String\"}, {\"field\": \"MonthlyCharges\", \"alias\": \"MonthlyCharges\", \"generated\": 0, \"position\": 19, \"type\": \"real\"}, {\"field\": \"TotalCharges\", \"alias\": \"TotalCharges\", \"generated\": 0, \"position\": 20, \"type\": \"real\"}, {\"field\": \"Churn\", \"alias\": \"Churn\", \"generated\": 0, \"position\": 21, \"type\": \"String\"}]}))\n",
    "\t#operationPostExecutionHook(datapreparation)\n",
    "\n",
    "except Exception as ex: \n",
    "\tlogging.error(ex)\n"
   ]
  },
  {
   "cell_type": "markdown",
   "id": "6ee23630",
   "metadata": {},
   "source": [
    "***WRITING DATAFRAME***"
   ]
  },
  {
   "cell_type": "code",
   "execution_count": null,
   "id": "8a14f04f",
   "metadata": {},
   "outputs": [],
   "source": [
    "#%run knnHooks.ipynb\n",
    "try:\n",
    "\t#sinkPreExecutionHook()\n",
    "\n",
    "\tdataprepoutput = NumtraConnector.fetch(spark, \"{'samplefile': '/FileStore/platform/sampleData/6639f524857b5405dff409d6/part-00000-1094313a-7154-47e2-911c-2b397ffde5ca-c000.csv', 'samplecount': 732, 'originalcount': 7043, 'orignalKey': '/FileStore/platform/testdata/1714989385169_Telco_Customer_missing.csv', 'pathOnly': '/Khalid/dataFolder/dataprep', 'project_id': '6638a55801ead5584c87f604', 'parent_id': '6638a55801ead5584c87f604', 'original_schema': [{'checked': True, 'inherited': True, 'is_categorical': False, 'bad_values': '', 'nullable': 'true', 'field': 'customerID', 'alias': 'customerID', 'type': 'String', 'position': '0'}, {'checked': True, 'inherited': True, 'is_categorical': False, 'bad_values': '', 'nullable': 'true', 'field': 'gender', 'alias': 'gender', 'type': 'String', 'position': '1'}, {'checked': True, 'inherited': True, 'is_categorical': False, 'bad_values': '', 'nullable': 'true', 'field': 'SeniorCitizen', 'alias': 'SeniorCitizen', 'type': 'numeric', 'position': '2'}, {'checked': True, 'inherited': True, 'is_categorical': False, 'bad_values': '', 'nullable': 'true', 'field': 'Partner', 'alias': 'Partner', 'type': 'String', 'position': '3'}, {'checked': True, 'inherited': True, 'is_categorical': False, 'bad_values': '', 'nullable': 'true', 'field': 'Dependents', 'alias': 'Dependents', 'type': 'String', 'position': '4'}, {'checked': True, 'inherited': True, 'is_categorical': False, 'bad_values': '', 'nullable': 'true', 'field': 'tenure', 'alias': 'tenure', 'type': 'numeric', 'position': '5'}, {'checked': True, 'inherited': True, 'is_categorical': False, 'bad_values': '', 'nullable': 'true', 'field': 'PhoneService', 'alias': 'PhoneService', 'type': 'String', 'position': '6'}, {'checked': True, 'inherited': True, 'is_categorical': False, 'bad_values': '', 'nullable': 'true', 'field': 'MultipleLines', 'alias': 'MultipleLines', 'type': 'String', 'position': '7'}, {'checked': True, 'inherited': True, 'is_categorical': False, 'bad_values': '', 'nullable': 'true', 'field': 'InternetService', 'alias': 'InternetService', 'type': 'String', 'position': '8'}, {'checked': True, 'inherited': True, 'is_categorical': False, 'bad_values': '', 'nullable': 'true', 'field': 'OnlineSecurity', 'alias': 'OnlineSecurity', 'type': 'String', 'position': '9'}, {'checked': True, 'inherited': True, 'is_categorical': False, 'bad_values': '', 'nullable': 'true', 'field': 'OnlineBackup', 'alias': 'OnlineBackup', 'type': 'String', 'position': '10'}, {'checked': True, 'inherited': True, 'is_categorical': False, 'bad_values': '', 'nullable': 'true', 'field': 'DeviceProtection', 'alias': 'DeviceProtection', 'type': 'String', 'position': '11'}, {'checked': True, 'inherited': True, 'is_categorical': False, 'bad_values': '', 'nullable': 'true', 'field': 'TechSupport', 'alias': 'TechSupport', 'type': 'String', 'position': '12'}, {'checked': True, 'inherited': True, 'is_categorical': False, 'bad_values': '', 'nullable': 'true', 'field': 'StreamingTV', 'alias': 'StreamingTV', 'type': 'String', 'position': '13'}, {'checked': True, 'inherited': True, 'is_categorical': False, 'bad_values': '', 'nullable': 'true', 'field': 'StreamingMovies', 'alias': 'StreamingMovies', 'type': 'String', 'position': '14'}, {'checked': True, 'inherited': True, 'is_categorical': False, 'bad_values': '', 'nullable': 'true', 'field': 'Contract', 'alias': 'Contract', 'type': 'String', 'position': '15'}, {'checked': True, 'inherited': True, 'is_categorical': False, 'bad_values': '', 'nullable': 'true', 'field': 'PaperlessBilling', 'alias': 'PaperlessBilling', 'type': 'String', 'position': '16'}, {'checked': True, 'inherited': True, 'is_categorical': False, 'bad_values': '', 'nullable': 'true', 'field': 'PaymentMethod', 'alias': 'PaymentMethod', 'type': 'String', 'position': '17'}, {'checked': True, 'inherited': True, 'is_categorical': False, 'bad_values': '', 'nullable': 'true', 'field': 'MonthlyCharges', 'alias': 'MonthlyCharges', 'type': 'real', 'position': '18'}, {'checked': True, 'inherited': True, 'is_categorical': False, 'bad_values': '', 'nullable': 'true', 'field': 'TotalCharges', 'alias': 'TotalCharges', 'type': 'real', 'position': '19'}, {'checked': True, 'inherited': True, 'is_categorical': False, 'bad_values': '', 'nullable': 'true', 'field': 'Churn', 'alias': 'Churn', 'type': 'String', 'position': '20'}], 'actual_schema': [{'checked': True, 'inherited': True, 'is_categorical': False, 'bad_values': '', 'nullable': 'true', 'field': 'customerID', 'alias': 'customerID', 'type': 'String', 'position': '0'}, {'checked': True, 'inherited': True, 'is_categorical': False, 'bad_values': '', 'nullable': 'true', 'field': 'gender', 'alias': 'gender', 'type': 'String', 'position': '1'}, {'checked': True, 'inherited': True, 'is_categorical': False, 'bad_values': '', 'nullable': 'true', 'field': 'SeniorCitizen', 'alias': 'SeniorCitizen', 'type': 'numeric', 'position': '2'}, {'checked': True, 'inherited': True, 'is_categorical': False, 'bad_values': '', 'nullable': 'true', 'field': 'Partner', 'alias': 'Partner', 'type': 'String', 'position': '3'}, {'checked': True, 'inherited': True, 'is_categorical': False, 'bad_values': '', 'nullable': 'true', 'field': 'Dependents', 'alias': 'Dependents', 'type': 'String', 'position': '4'}, {'checked': True, 'inherited': True, 'is_categorical': False, 'bad_values': '', 'nullable': 'true', 'field': 'tenure', 'alias': 'tenure', 'type': 'numeric', 'position': '5'}, {'checked': True, 'inherited': True, 'is_categorical': False, 'bad_values': '', 'nullable': 'true', 'field': 'PhoneService', 'alias': 'PhoneService', 'type': 'String', 'position': '6'}, {'checked': True, 'inherited': True, 'is_categorical': False, 'bad_values': '', 'nullable': 'true', 'field': 'MultipleLines', 'alias': 'MultipleLines', 'type': 'String', 'position': '7'}, {'checked': True, 'inherited': True, 'is_categorical': False, 'bad_values': '', 'nullable': 'true', 'field': 'InternetService', 'alias': 'InternetService', 'type': 'String', 'position': '8'}, {'checked': True, 'inherited': True, 'is_categorical': False, 'bad_values': '', 'nullable': 'true', 'field': 'OnlineSecurity', 'alias': 'OnlineSecurity', 'type': 'String', 'position': '9'}, {'checked': True, 'inherited': True, 'is_categorical': False, 'bad_values': '', 'nullable': 'true', 'field': 'OnlineBackup', 'alias': 'OnlineBackup', 'type': 'String', 'position': '10'}, {'checked': True, 'inherited': True, 'is_categorical': False, 'bad_values': '', 'nullable': 'true', 'field': 'DeviceProtection', 'alias': 'DeviceProtection', 'type': 'String', 'position': '11'}, {'checked': True, 'inherited': True, 'is_categorical': False, 'bad_values': '', 'nullable': 'true', 'field': 'TechSupport', 'alias': 'TechSupport', 'type': 'String', 'position': '12'}, {'checked': True, 'inherited': True, 'is_categorical': False, 'bad_values': '', 'nullable': 'true', 'field': 'StreamingTV', 'alias': 'StreamingTV', 'type': 'String', 'position': '13'}, {'checked': True, 'inherited': True, 'is_categorical': False, 'bad_values': '', 'nullable': 'true', 'field': 'StreamingMovies', 'alias': 'StreamingMovies', 'type': 'String', 'position': '14'}, {'checked': True, 'inherited': True, 'is_categorical': False, 'bad_values': '', 'nullable': 'true', 'field': 'Contract', 'alias': 'Contract', 'type': 'String', 'position': '15'}, {'checked': True, 'inherited': True, 'is_categorical': False, 'bad_values': '', 'nullable': 'true', 'field': 'PaperlessBilling', 'alias': 'PaperlessBilling', 'type': 'String', 'position': '16'}, {'checked': True, 'inherited': True, 'is_categorical': False, 'bad_values': '', 'nullable': 'true', 'field': 'PaymentMethod', 'alias': 'PaymentMethod', 'type': 'String', 'position': '17'}, {'checked': True, 'inherited': True, 'is_categorical': False, 'bad_values': '', 'nullable': 'true', 'field': 'MonthlyCharges', 'alias': 'MonthlyCharges', 'type': 'real', 'position': '18'}, {'checked': True, 'inherited': True, 'is_categorical': False, 'bad_values': '', 'nullable': 'true', 'field': 'TotalCharges', 'alias': 'TotalCharges', 'type': 'real', 'position': '19'}, {'checked': True, 'inherited': True, 'is_categorical': False, 'bad_values': '', 'nullable': 'true', 'field': 'Churn', 'alias': 'Churn', 'type': 'String', 'position': '20'}], 'server': 'https://dnm.bfirst.ai:443', 'server_url': '/nexusMax/NexusMaxPlatform/uploads/platform/', 'delimiter': ',', 'file_type': 'Delimeted', 'filename': 'out.csv', 'token': '', 'domain': '', 'is_header': 'Use Header Line', 'url': '/FileStore/platform/uploadedSourceFiles/part-00000-3ed9933e-e115-4cb6-8447-9dee5cb04af2-c000.csv', 'results_url': 'http://dnm.bfirst.ai:44040/api/read/hdfs'}\")\n",
    "\n",
    "except Exception as ex: \n",
    "\tlogging.error(ex)\n"
   ]
  }
 ],
 "metadata": {},
 "nbformat": 4,
 "nbformat_minor": 5
}
